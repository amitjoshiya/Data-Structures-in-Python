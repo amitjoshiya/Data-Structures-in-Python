{
 "cells": [
  {
   "cell_type": "markdown",
   "id": "f1769af1",
   "metadata": {},
   "source": [
    "# Data Structures"
   ]
  },
  {
   "cell_type": "markdown",
   "id": "31ad694c",
   "metadata": {},
   "source": [
    "There are 4 Types of Data Structures in Python:\n",
    "\n",
    "1. TUPLE\n",
    "2. LIST\n",
    "3. DICTIONARY\n",
    "4. SET"
   ]
  },
  {
   "cell_type": "markdown",
   "id": "2a03644c",
   "metadata": {},
   "source": [
    "# TUPLE\n",
    "\n",
    "- Tuple is an immutable Data Structure, we cannot modify it.\n",
    "- Tuple can store hetrogeneous data. (Various Data Types).\n",
    "- Tuple is enclosed with ().\n",
    "- Tuple is an ordered collection of elements."
   ]
  },
  {
   "cell_type": "code",
   "execution_count": 8,
   "id": "a52ebd81",
   "metadata": {},
   "outputs": [],
   "source": [
    "a = (12,5.5,False,7-2j,'Hello')"
   ]
  },
  {
   "cell_type": "code",
   "execution_count": 9,
   "id": "4854394e",
   "metadata": {},
   "outputs": [
    {
     "data": {
      "text/plain": [
       "(12, 5.5, False, (7-2j), 'Hello')"
      ]
     },
     "execution_count": 9,
     "metadata": {},
     "output_type": "execute_result"
    }
   ],
   "source": [
    "a"
   ]
  },
  {
   "cell_type": "code",
   "execution_count": 10,
   "id": "5d12ac41",
   "metadata": {},
   "outputs": [
    {
     "data": {
      "text/plain": [
       "tuple"
      ]
     },
     "execution_count": 10,
     "metadata": {},
     "output_type": "execute_result"
    }
   ],
   "source": [
    "type(a)"
   ]
  },
  {
   "cell_type": "code",
   "execution_count": 12,
   "id": "6b2f57e3",
   "metadata": {},
   "outputs": [
    {
     "data": {
      "text/plain": [
       "(7-2j)"
      ]
     },
     "execution_count": 12,
     "metadata": {},
     "output_type": "execute_result"
    }
   ],
   "source": [
    "# Indexing with Tuple (Extract specific element)\n",
    "\n",
    "a[3]"
   ]
  },
  {
   "cell_type": "code",
   "execution_count": 15,
   "id": "635e223f",
   "metadata": {},
   "outputs": [
    {
     "data": {
      "text/plain": [
       "True"
      ]
     },
     "execution_count": 15,
     "metadata": {},
     "output_type": "execute_result"
    }
   ],
   "source": [
    "# Trying to Modify the data inside a TUPLE.\n",
    "\n",
    "a[3]==7-2j"
   ]
  },
  {
   "cell_type": "code",
   "execution_count": 16,
   "id": "81d859b5",
   "metadata": {},
   "outputs": [
    {
     "ename": "TypeError",
     "evalue": "'tuple' object does not support item assignment",
     "output_type": "error",
     "traceback": [
      "\u001b[1;31m---------------------------------------------------------------------------\u001b[0m",
      "\u001b[1;31mTypeError\u001b[0m                                 Traceback (most recent call last)",
      "Cell \u001b[1;32mIn[16], line 1\u001b[0m\n\u001b[1;32m----> 1\u001b[0m a[\u001b[38;5;241m3\u001b[39m] \u001b[38;5;241m=\u001b[39m \u001b[38;5;241m6\u001b[39m\u001b[38;5;241m-\u001b[39m\u001b[38;5;241m2\u001b[39mj\n",
      "\u001b[1;31mTypeError\u001b[0m: 'tuple' object does not support item assignment"
     ]
    }
   ],
   "source": [
    "a[3] = 6-2j"
   ]
  },
  {
   "cell_type": "markdown",
   "id": "72d4e6c0",
   "metadata": {},
   "source": [
    "- Thats why tuple is an Immutable Data Structure. It won't allow us to change the data.\n",
    "\n",
    "- Because of this there are very limted options that we can use with TUPLE."
   ]
  },
  {
   "cell_type": "code",
   "execution_count": 17,
   "id": "894ff498",
   "metadata": {},
   "outputs": [
    {
     "data": {
      "text/plain": [
       "(12, 5.5, False, (7-2j), 'Hello')"
      ]
     },
     "execution_count": 17,
     "metadata": {},
     "output_type": "execute_result"
    }
   ],
   "source": [
    "# Min and Max. (They will work with Similar Data Types)\n",
    "\n",
    "a"
   ]
  },
  {
   "cell_type": "code",
   "execution_count": 18,
   "id": "32c30d4e",
   "metadata": {},
   "outputs": [],
   "source": [
    "a = (34,22,12,65,1,265)"
   ]
  },
  {
   "cell_type": "code",
   "execution_count": 19,
   "id": "c153c99e",
   "metadata": {},
   "outputs": [
    {
     "data": {
      "text/plain": [
       "(34, 22, 12, 65, 1, 265)"
      ]
     },
     "execution_count": 19,
     "metadata": {},
     "output_type": "execute_result"
    }
   ],
   "source": [
    "a"
   ]
  },
  {
   "cell_type": "code",
   "execution_count": 20,
   "id": "6c3b9c6c",
   "metadata": {},
   "outputs": [
    {
     "data": {
      "text/plain": [
       "1"
      ]
     },
     "execution_count": 20,
     "metadata": {},
     "output_type": "execute_result"
    }
   ],
   "source": [
    "min(a)"
   ]
  },
  {
   "cell_type": "code",
   "execution_count": 21,
   "id": "493747d9",
   "metadata": {},
   "outputs": [
    {
     "data": {
      "text/plain": [
       "265"
      ]
     },
     "execution_count": 21,
     "metadata": {},
     "output_type": "execute_result"
    }
   ],
   "source": [
    "max(a)"
   ]
  },
  {
   "cell_type": "code",
   "execution_count": 22,
   "id": "dcb98de1",
   "metadata": {},
   "outputs": [
    {
     "data": {
      "text/plain": [
       "399"
      ]
     },
     "execution_count": 22,
     "metadata": {},
     "output_type": "execute_result"
    }
   ],
   "source": [
    "sum(a)"
   ]
  },
  {
   "cell_type": "code",
   "execution_count": 24,
   "id": "d255f9c0",
   "metadata": {},
   "outputs": [
    {
     "data": {
      "text/plain": [
       "[1, 12, 22, 34, 65, 265]"
      ]
     },
     "execution_count": 24,
     "metadata": {},
     "output_type": "execute_result"
    }
   ],
   "source": [
    "sorted(a)"
   ]
  },
  {
   "cell_type": "code",
   "execution_count": 25,
   "id": "7fdd5ff5",
   "metadata": {},
   "outputs": [],
   "source": [
    "a = ('V','K','M','A','C')"
   ]
  },
  {
   "cell_type": "code",
   "execution_count": 26,
   "id": "4749207a",
   "metadata": {},
   "outputs": [
    {
     "data": {
      "text/plain": [
       "('V', 'K', 'M', 'A', 'C')"
      ]
     },
     "execution_count": 26,
     "metadata": {},
     "output_type": "execute_result"
    }
   ],
   "source": [
    "a"
   ]
  },
  {
   "cell_type": "code",
   "execution_count": 27,
   "id": "c4d1dcd0",
   "metadata": {},
   "outputs": [
    {
     "data": {
      "text/plain": [
       "['A', 'C', 'K', 'M', 'V']"
      ]
     },
     "execution_count": 27,
     "metadata": {},
     "output_type": "execute_result"
    }
   ],
   "source": [
    "sorted(a)"
   ]
  },
  {
   "cell_type": "code",
   "execution_count": 28,
   "id": "cfe3be36",
   "metadata": {},
   "outputs": [
    {
     "data": {
      "text/plain": [
       "'A'"
      ]
     },
     "execution_count": 28,
     "metadata": {},
     "output_type": "execute_result"
    }
   ],
   "source": [
    "min(a)"
   ]
  },
  {
   "cell_type": "code",
   "execution_count": 29,
   "id": "05dd0115",
   "metadata": {},
   "outputs": [
    {
     "data": {
      "text/plain": [
       "'V'"
      ]
     },
     "execution_count": 29,
     "metadata": {},
     "output_type": "execute_result"
    }
   ],
   "source": [
    "max(a)"
   ]
  },
  {
   "cell_type": "markdown",
   "id": "247f3412",
   "metadata": {},
   "source": [
    "# LIST\n",
    "\n",
    "- List is an Mutable Data Structure.\n",
    "- List is an Ordered collection of Elements.\n",
    "- List is enclosed with [].\n",
    "- It can store Hetrogeneous data types."
   ]
  },
  {
   "cell_type": "markdown",
   "id": "7267793b",
   "metadata": {},
   "source": [
    "- List is an Mutable Data Structure, and that makes is widely used."
   ]
  },
  {
   "cell_type": "code",
   "execution_count": 30,
   "id": "9f7c80c0",
   "metadata": {},
   "outputs": [],
   "source": [
    "a = [1.1,45,'Hello',9+3j,True]"
   ]
  },
  {
   "cell_type": "code",
   "execution_count": 31,
   "id": "09f4ce47",
   "metadata": {},
   "outputs": [
    {
     "data": {
      "text/plain": [
       "[1.1, 45, 'Hello', (9+3j), True]"
      ]
     },
     "execution_count": 31,
     "metadata": {},
     "output_type": "execute_result"
    }
   ],
   "source": [
    "a"
   ]
  },
  {
   "cell_type": "code",
   "execution_count": 32,
   "id": "bb8961e1",
   "metadata": {},
   "outputs": [
    {
     "data": {
      "text/plain": [
       "list"
      ]
     },
     "execution_count": 32,
     "metadata": {},
     "output_type": "execute_result"
    }
   ],
   "source": [
    "type(a)"
   ]
  },
  {
   "cell_type": "code",
   "execution_count": 33,
   "id": "9252d7f8",
   "metadata": {},
   "outputs": [
    {
     "data": {
      "text/plain": [
       "'Hello'"
      ]
     },
     "execution_count": 33,
     "metadata": {},
     "output_type": "execute_result"
    }
   ],
   "source": [
    "# Indexing with List\n",
    "\n",
    "a[2]"
   ]
  },
  {
   "cell_type": "code",
   "execution_count": 35,
   "id": "c06f172c",
   "metadata": {},
   "outputs": [
    {
     "data": {
      "text/plain": [
       "True"
      ]
     },
     "execution_count": 35,
     "metadata": {},
     "output_type": "execute_result"
    }
   ],
   "source": [
    "a[2]=='Hello'"
   ]
  },
  {
   "cell_type": "code",
   "execution_count": 36,
   "id": "18593eeb",
   "metadata": {},
   "outputs": [],
   "source": [
    "a[2] = 'Amit'"
   ]
  },
  {
   "cell_type": "code",
   "execution_count": 37,
   "id": "e62b297d",
   "metadata": {},
   "outputs": [
    {
     "data": {
      "text/plain": [
       "[1.1, 45, 'Amit', (9+3j), True]"
      ]
     },
     "execution_count": 37,
     "metadata": {},
     "output_type": "execute_result"
    }
   ],
   "source": [
    "a"
   ]
  },
  {
   "cell_type": "markdown",
   "id": "f37414d5",
   "metadata": {},
   "source": [
    "- That's why list is mutable, we can change the data accordingly."
   ]
  },
  {
   "cell_type": "code",
   "execution_count": 39,
   "id": "7ec3659e",
   "metadata": {},
   "outputs": [],
   "source": [
    "# Data Insertion (How to add data in a LIST).\n",
    "\n",
    "# There are three methods in List to add data.\n",
    "\n",
    "# Append  --->>> It will take onlt one argument not second\n",
    "\n",
    "a.append('Chirag')"
   ]
  },
  {
   "cell_type": "code",
   "execution_count": 40,
   "id": "16fb9d3c",
   "metadata": {},
   "outputs": [
    {
     "data": {
      "text/plain": [
       "[1.1, 45, 'Amit', (9+3j), True, 'Chirag']"
      ]
     },
     "execution_count": 40,
     "metadata": {},
     "output_type": "execute_result"
    }
   ],
   "source": [
    "a"
   ]
  },
  {
   "cell_type": "code",
   "execution_count": 43,
   "id": "09e49761",
   "metadata": {},
   "outputs": [],
   "source": [
    "a.append('Sanchit')"
   ]
  },
  {
   "cell_type": "code",
   "execution_count": 44,
   "id": "aa3e279a",
   "metadata": {},
   "outputs": [
    {
     "data": {
      "text/plain": [
       "[1.1, 45, 'Amit', (9+3j), True, 'Chirag', 'Sanchit']"
      ]
     },
     "execution_count": 44,
     "metadata": {},
     "output_type": "execute_result"
    }
   ],
   "source": [
    "a"
   ]
  },
  {
   "cell_type": "code",
   "execution_count": 48,
   "id": "d1d79756",
   "metadata": {},
   "outputs": [
    {
     "ename": "TypeError",
     "evalue": "insert expected 2 arguments, got 3",
     "output_type": "error",
     "traceback": [
      "\u001b[1;31m---------------------------------------------------------------------------\u001b[0m",
      "\u001b[1;31mTypeError\u001b[0m                                 Traceback (most recent call last)",
      "Cell \u001b[1;32mIn[48], line 4\u001b[0m\n\u001b[0;32m      1\u001b[0m \u001b[38;5;66;03m# What if we need to store the data at specific Position.\u001b[39;00m\n\u001b[0;32m      2\u001b[0m \u001b[38;5;66;03m#insert - it will take 2 arguments (1. Index Number, 2. Data to add)\u001b[39;00m\n\u001b[1;32m----> 4\u001b[0m \u001b[43ma\u001b[49m\u001b[38;5;241;43m.\u001b[39;49m\u001b[43minsert\u001b[49m\u001b[43m(\u001b[49m\u001b[38;5;241;43m2\u001b[39;49m\u001b[43m,\u001b[49m\u001b[38;5;124;43m'\u001b[39;49m\u001b[38;5;124;43mSunil\u001b[39;49m\u001b[38;5;124;43m'\u001b[39;49m\u001b[43m,\u001b[49m\u001b[38;5;124;43m'\u001b[39;49m\u001b[38;5;124;43mAman\u001b[39;49m\u001b[38;5;124;43m'\u001b[39;49m\u001b[43m)\u001b[49m\n",
      "\u001b[1;31mTypeError\u001b[0m: insert expected 2 arguments, got 3"
     ]
    }
   ],
   "source": [
    "# What if we need to store the data at specific Position.\n",
    "#insert - it will take 2 arguments (1. Index Number, 2. Data to add)\n",
    "\n",
    "a.insert(2,'Sunil')"
   ]
  },
  {
   "cell_type": "code",
   "execution_count": 47,
   "id": "6b7a93f5",
   "metadata": {},
   "outputs": [
    {
     "data": {
      "text/plain": [
       "[1.1, 45, 'Sunil', 'Amit', (9+3j), True, 'Chirag', 'Sanchit']"
      ]
     },
     "execution_count": 47,
     "metadata": {},
     "output_type": "execute_result"
    }
   ],
   "source": [
    "a"
   ]
  },
  {
   "cell_type": "code",
   "execution_count": 50,
   "id": "c7652f7f",
   "metadata": {},
   "outputs": [],
   "source": [
    "# We want to add 3 more students (atul,ashish and aman) in one go.\n",
    "\n",
    "a.append(['atul','ashish','aman'])"
   ]
  },
  {
   "cell_type": "code",
   "execution_count": 51,
   "id": "38563dfc",
   "metadata": {},
   "outputs": [
    {
     "data": {
      "text/plain": [
       "[1.1,\n",
       " 45,\n",
       " 'Sunil',\n",
       " 'Amit',\n",
       " (9+3j),\n",
       " True,\n",
       " 'Chirag',\n",
       " 'Sanchit',\n",
       " ['atul', 'ashish', 'aman']]"
      ]
     },
     "execution_count": 51,
     "metadata": {},
     "output_type": "execute_result"
    }
   ],
   "source": [
    "a"
   ]
  },
  {
   "cell_type": "code",
   "execution_count": 52,
   "id": "ecb789a5",
   "metadata": {},
   "outputs": [
    {
     "data": {
      "text/plain": [
       "['atul', 'ashish', 'aman']"
      ]
     },
     "execution_count": 52,
     "metadata": {},
     "output_type": "execute_result"
    }
   ],
   "source": [
    "a[8]"
   ]
  },
  {
   "cell_type": "code",
   "execution_count": 53,
   "id": "484ef889",
   "metadata": {},
   "outputs": [],
   "source": [
    "a.extend(['atul','ashish','aman'])"
   ]
  },
  {
   "cell_type": "code",
   "execution_count": 54,
   "id": "3aa67445",
   "metadata": {},
   "outputs": [
    {
     "data": {
      "text/plain": [
       "[1.1,\n",
       " 45,\n",
       " 'Sunil',\n",
       " 'Amit',\n",
       " (9+3j),\n",
       " True,\n",
       " 'Chirag',\n",
       " 'Sanchit',\n",
       " ['atul', 'ashish', 'aman'],\n",
       " 'atul',\n",
       " 'ashish',\n",
       " 'aman']"
      ]
     },
     "execution_count": 54,
     "metadata": {},
     "output_type": "execute_result"
    }
   ],
   "source": [
    "\n",
    "a"
   ]
  },
  {
   "cell_type": "code",
   "execution_count": 55,
   "id": "e70d1f52",
   "metadata": {},
   "outputs": [
    {
     "data": {
      "text/plain": [
       "'atul'"
      ]
     },
     "execution_count": 55,
     "metadata": {},
     "output_type": "execute_result"
    }
   ],
   "source": [
    "a[9]"
   ]
  },
  {
   "cell_type": "code",
   "execution_count": 56,
   "id": "163e2a26",
   "metadata": {},
   "outputs": [
    {
     "data": {
      "text/plain": [
       "'ashish'"
      ]
     },
     "execution_count": 56,
     "metadata": {},
     "output_type": "execute_result"
    }
   ],
   "source": [
    "a[10]"
   ]
  },
  {
   "cell_type": "code",
   "execution_count": 57,
   "id": "30be6056",
   "metadata": {},
   "outputs": [
    {
     "data": {
      "text/plain": [
       "'aman'"
      ]
     },
     "execution_count": 57,
     "metadata": {},
     "output_type": "execute_result"
    }
   ],
   "source": [
    "a[11]"
   ]
  },
  {
   "cell_type": "code",
   "execution_count": 58,
   "id": "9f2828b0",
   "metadata": {},
   "outputs": [],
   "source": [
    "# Extend Limitation (It will add data in the end. We cannot assign the index number)"
   ]
  },
  {
   "cell_type": "code",
   "execution_count": 59,
   "id": "c5bb398e",
   "metadata": {},
   "outputs": [
    {
     "data": {
      "text/plain": [
       "[1.1,\n",
       " 45,\n",
       " 'Sunil',\n",
       " 'Amit',\n",
       " (9+3j),\n",
       " True,\n",
       " 'Chirag',\n",
       " 'Sanchit',\n",
       " ['atul', 'ashish', 'aman'],\n",
       " 'atul',\n",
       " 'ashish',\n",
       " 'aman']"
      ]
     },
     "execution_count": 59,
     "metadata": {},
     "output_type": "execute_result"
    }
   ],
   "source": [
    "a"
   ]
  },
  {
   "cell_type": "code",
   "execution_count": 60,
   "id": "8f2fe6d3",
   "metadata": {},
   "outputs": [
    {
     "data": {
      "text/plain": [
       "'aman'"
      ]
     },
     "execution_count": 60,
     "metadata": {},
     "output_type": "execute_result"
    }
   ],
   "source": [
    "# How we can remove data from a LIST.\n",
    "# Pop can run without an argument it will pick the data up from the end by default.\n",
    "\n",
    "a.pop()"
   ]
  },
  {
   "cell_type": "code",
   "execution_count": 61,
   "id": "a03c3a94",
   "metadata": {},
   "outputs": [
    {
     "data": {
      "text/plain": [
       "[1.1,\n",
       " 45,\n",
       " 'Sunil',\n",
       " 'Amit',\n",
       " (9+3j),\n",
       " True,\n",
       " 'Chirag',\n",
       " 'Sanchit',\n",
       " ['atul', 'ashish', 'aman'],\n",
       " 'atul',\n",
       " 'ashish']"
      ]
     },
     "execution_count": 61,
     "metadata": {},
     "output_type": "execute_result"
    }
   ],
   "source": [
    "a"
   ]
  },
  {
   "cell_type": "code",
   "execution_count": 62,
   "id": "cbe0f5e5",
   "metadata": {},
   "outputs": [
    {
     "data": {
      "text/plain": [
       "'Sunil'"
      ]
     },
     "execution_count": 62,
     "metadata": {},
     "output_type": "execute_result"
    }
   ],
   "source": [
    "# By default it will take no argument and pop the last element.\n",
    "# It can also take 1 argument as well by its index number.\n",
    "\n",
    "a.pop(2)"
   ]
  },
  {
   "cell_type": "code",
   "execution_count": 66,
   "id": "bd177097",
   "metadata": {},
   "outputs": [
    {
     "data": {
      "text/plain": [
       "[1.1,\n",
       " 45,\n",
       " 'Amit',\n",
       " (9+3j),\n",
       " True,\n",
       " 'Chirag',\n",
       " 'Sanchit',\n",
       " ['atul', 'ashish', 'aman'],\n",
       " 'atul',\n",
       " 'ashish']"
      ]
     },
     "execution_count": 66,
     "metadata": {},
     "output_type": "execute_result"
    }
   ],
   "source": [
    "a"
   ]
  },
  {
   "cell_type": "code",
   "execution_count": 68,
   "id": "19d23e79",
   "metadata": {},
   "outputs": [],
   "source": [
    "# Remove method will take the data itseld as its argument.\n",
    "\n",
    "a.remove(True)"
   ]
  },
  {
   "cell_type": "code",
   "execution_count": 69,
   "id": "5da7bee3",
   "metadata": {},
   "outputs": [
    {
     "data": {
      "text/plain": [
       "[1.1,\n",
       " 45,\n",
       " 'Amit',\n",
       " (9+3j),\n",
       " 'Chirag',\n",
       " 'Sanchit',\n",
       " ['atul', 'ashish', 'aman'],\n",
       " 'atul',\n",
       " 'ashish']"
      ]
     },
     "execution_count": 69,
     "metadata": {},
     "output_type": "execute_result"
    }
   ],
   "source": [
    "a"
   ]
  },
  {
   "cell_type": "code",
   "execution_count": 70,
   "id": "63340df4",
   "metadata": {},
   "outputs": [],
   "source": [
    "# If we want to reverse the list\n",
    "\n",
    "a.reverse()"
   ]
  },
  {
   "cell_type": "code",
   "execution_count": 71,
   "id": "0b4ab279",
   "metadata": {},
   "outputs": [
    {
     "data": {
      "text/plain": [
       "['ashish',\n",
       " 'atul',\n",
       " ['atul', 'ashish', 'aman'],\n",
       " 'Sanchit',\n",
       " 'Chirag',\n",
       " (9+3j),\n",
       " 'Amit',\n",
       " 45,\n",
       " 1.1]"
      ]
     },
     "execution_count": 71,
     "metadata": {},
     "output_type": "execute_result"
    }
   ],
   "source": [
    "a"
   ]
  },
  {
   "cell_type": "code",
   "execution_count": 72,
   "id": "944f6200",
   "metadata": {},
   "outputs": [
    {
     "data": {
      "text/plain": [
       "['atul', 'ashish', 'aman']"
      ]
     },
     "execution_count": 72,
     "metadata": {},
     "output_type": "execute_result"
    }
   ],
   "source": [
    "a.pop(2)"
   ]
  },
  {
   "cell_type": "code",
   "execution_count": 73,
   "id": "a6b47622",
   "metadata": {},
   "outputs": [
    {
     "data": {
      "text/plain": [
       "['ashish', 'atul', 'Sanchit', 'Chirag', (9+3j), 'Amit', 45, 1.1]"
      ]
     },
     "execution_count": 73,
     "metadata": {},
     "output_type": "execute_result"
    }
   ],
   "source": [
    "a"
   ]
  },
  {
   "cell_type": "code",
   "execution_count": 74,
   "id": "6297c934",
   "metadata": {},
   "outputs": [
    {
     "data": {
      "text/plain": [
       "2"
      ]
     },
     "execution_count": 74,
     "metadata": {},
     "output_type": "execute_result"
    }
   ],
   "source": [
    "# How to find the Index Number of any element.\n",
    "\n",
    "a.index('Sanchit')"
   ]
  },
  {
   "cell_type": "code",
   "execution_count": 76,
   "id": "824faeb8",
   "metadata": {},
   "outputs": [],
   "source": [
    "# Count will work on the data that is repeting itself.\n",
    "\n",
    "data = ['Chirag','Amit','Chirag','Sanchit','Chirag']"
   ]
  },
  {
   "cell_type": "code",
   "execution_count": 77,
   "id": "3387d766",
   "metadata": {},
   "outputs": [
    {
     "data": {
      "text/plain": [
       "['Chirag', 'Amit', 'Chirag', 'Sanchit', 'Chirag']"
      ]
     },
     "execution_count": 77,
     "metadata": {},
     "output_type": "execute_result"
    }
   ],
   "source": [
    "data"
   ]
  },
  {
   "cell_type": "code",
   "execution_count": 79,
   "id": "342e7363",
   "metadata": {},
   "outputs": [
    {
     "data": {
      "text/plain": [
       "3"
      ]
     },
     "execution_count": 79,
     "metadata": {},
     "output_type": "execute_result"
    }
   ],
   "source": [
    "data.count('Chirag')"
   ]
  },
  {
   "cell_type": "code",
   "execution_count": 80,
   "id": "b08c105e",
   "metadata": {},
   "outputs": [
    {
     "data": {
      "text/plain": [
       "['Chirag', 'Amit', 'Chirag', 'Sanchit', 'Chirag']"
      ]
     },
     "execution_count": 80,
     "metadata": {},
     "output_type": "execute_result"
    }
   ],
   "source": [
    "data"
   ]
  },
  {
   "cell_type": "code",
   "execution_count": 82,
   "id": "d5cbe5b8",
   "metadata": {},
   "outputs": [],
   "source": [
    "# Sort will work in ascending order by defalut\n",
    "\n",
    "data.sort()"
   ]
  },
  {
   "cell_type": "code",
   "execution_count": 83,
   "id": "2d4bd739",
   "metadata": {},
   "outputs": [
    {
     "data": {
      "text/plain": [
       "['Amit', 'Chirag', 'Chirag', 'Chirag', 'Sanchit']"
      ]
     },
     "execution_count": 83,
     "metadata": {},
     "output_type": "execute_result"
    }
   ],
   "source": [
    "data"
   ]
  },
  {
   "cell_type": "code",
   "execution_count": 84,
   "id": "f65eeaa3",
   "metadata": {},
   "outputs": [],
   "source": [
    "# For sorting in Descending order we need an argument named as reverse\n",
    "\n",
    "data.sort(reverse=True)"
   ]
  },
  {
   "cell_type": "code",
   "execution_count": 85,
   "id": "4e348b0f",
   "metadata": {},
   "outputs": [
    {
     "data": {
      "text/plain": [
       "['Sanchit', 'Chirag', 'Chirag', 'Chirag', 'Amit']"
      ]
     },
     "execution_count": 85,
     "metadata": {},
     "output_type": "execute_result"
    }
   ],
   "source": [
    "data"
   ]
  },
  {
   "cell_type": "code",
   "execution_count": 86,
   "id": "77947042",
   "metadata": {},
   "outputs": [],
   "source": [
    "# Clear will delete all the data inside a list it will empty the list.\n",
    "\n",
    "data.clear()"
   ]
  },
  {
   "cell_type": "code",
   "execution_count": 87,
   "id": "076cd0c0",
   "metadata": {},
   "outputs": [
    {
     "data": {
      "text/plain": [
       "[]"
      ]
     },
     "execution_count": 87,
     "metadata": {},
     "output_type": "execute_result"
    }
   ],
   "source": [
    "data"
   ]
  },
  {
   "cell_type": "markdown",
   "id": "64547262",
   "metadata": {},
   "source": [
    "# DICTIONARY\n",
    "\n",
    "- Dictionary is an Pair of Keys and Values\n",
    "- In Dictionary Keys are Immutable and Values are Mutable.\n",
    "- NOTE: As we are able to add or remove the data from dictionary that make the whole data structure a MUTABLE DATA STRUCTURE.\n",
    "- Dictionary is enclosed with {}. --- >>> Curly Brackets.\n",
    "- It is an Unordered collection of elements.\n",
    "- Keys and Values were seperated from : --- >>> Colons."
   ]
  },
  {
   "cell_type": "code",
   "execution_count": 88,
   "id": "ba38f778",
   "metadata": {},
   "outputs": [],
   "source": [
    "a = {'Name':'Chirag','Age':24,'Location':'Shalimar Bagh','Married':True}"
   ]
  },
  {
   "cell_type": "code",
   "execution_count": 89,
   "id": "d1264f37",
   "metadata": {},
   "outputs": [
    {
     "data": {
      "text/plain": [
       "{'Name': 'Chirag', 'Age': 24, 'Location': 'Shalimar Bagh', 'Married': True}"
      ]
     },
     "execution_count": 89,
     "metadata": {},
     "output_type": "execute_result"
    }
   ],
   "source": [
    "a"
   ]
  },
  {
   "cell_type": "code",
   "execution_count": 90,
   "id": "93dceb85",
   "metadata": {},
   "outputs": [
    {
     "data": {
      "text/plain": [
       "dict_keys(['Name', 'Age', 'Location', 'Married'])"
      ]
     },
     "execution_count": 90,
     "metadata": {},
     "output_type": "execute_result"
    }
   ],
   "source": [
    "a.keys()"
   ]
  },
  {
   "cell_type": "code",
   "execution_count": 91,
   "id": "a6bbe8d5",
   "metadata": {},
   "outputs": [
    {
     "data": {
      "text/plain": [
       "dict_values(['Chirag', 24, 'Shalimar Bagh', True])"
      ]
     },
     "execution_count": 91,
     "metadata": {},
     "output_type": "execute_result"
    }
   ],
   "source": [
    "a.values()"
   ]
  },
  {
   "cell_type": "code",
   "execution_count": 92,
   "id": "d75a185a",
   "metadata": {},
   "outputs": [
    {
     "data": {
      "text/plain": [
       "24"
      ]
     },
     "execution_count": 92,
     "metadata": {},
     "output_type": "execute_result"
    }
   ],
   "source": [
    "# Dictionary is an Onrdered collection of elements.\n",
    "# Number indexng won't work with this Data Structure.\n",
    "\n",
    "# We can extract the values on the basis of their respective Keys.\n",
    "\n",
    "a['Age']"
   ]
  },
  {
   "cell_type": "code",
   "execution_count": 93,
   "id": "48b156ab",
   "metadata": {},
   "outputs": [],
   "source": [
    "# How we can mutate or Change the Values w.r.t Keys.\n",
    "\n",
    "a['Age']= 31"
   ]
  },
  {
   "cell_type": "code",
   "execution_count": 94,
   "id": "3e633a43",
   "metadata": {},
   "outputs": [
    {
     "data": {
      "text/plain": [
       "{'Name': 'Chirag', 'Age': 31, 'Location': 'Shalimar Bagh', 'Married': True}"
      ]
     },
     "execution_count": 94,
     "metadata": {},
     "output_type": "execute_result"
    }
   ],
   "source": [
    "a"
   ]
  },
  {
   "cell_type": "code",
   "execution_count": 103,
   "id": "a688d3c7",
   "metadata": {},
   "outputs": [],
   "source": [
    "# How we can add data in a Dictionary.\n",
    "\n",
    "# Way 1. \n",
    "\n",
    "a['Height']= 5.11"
   ]
  },
  {
   "cell_type": "code",
   "execution_count": 104,
   "id": "0083318b",
   "metadata": {},
   "outputs": [
    {
     "data": {
      "text/plain": [
       "{'Name': 'Chirag',\n",
       " 'Age': 31,\n",
       " 'Location': 'Shalimar Bagh',\n",
       " 'Married': True,\n",
       " 'Height': 5.11}"
      ]
     },
     "execution_count": 104,
     "metadata": {},
     "output_type": "execute_result"
    }
   ],
   "source": [
    "a"
   ]
  },
  {
   "cell_type": "code",
   "execution_count": 108,
   "id": "0fbc8efb",
   "metadata": {},
   "outputs": [],
   "source": [
    "# Way 2 to add data in a Dictionary\n",
    "\n",
    "a.update({'Weight':65.11})"
   ]
  },
  {
   "cell_type": "code",
   "execution_count": 109,
   "id": "cca20d87",
   "metadata": {},
   "outputs": [
    {
     "data": {
      "text/plain": [
       "{'Name': 'Chirag',\n",
       " 'Age': 31,\n",
       " 'Location': 'Shalimar Bagh',\n",
       " 'Married': True,\n",
       " 'Height': 5.11,\n",
       " 'Weight': 65.11}"
      ]
     },
     "execution_count": 109,
     "metadata": {},
     "output_type": "execute_result"
    }
   ],
   "source": [
    "a"
   ]
  },
  {
   "cell_type": "code",
   "execution_count": 110,
   "id": "bcf058a9",
   "metadata": {},
   "outputs": [],
   "source": [
    "# Passing Multiple Data in one argument..\n",
    "\n",
    "a.update({'Hair':'Black','Size':8.5})"
   ]
  },
  {
   "cell_type": "code",
   "execution_count": 111,
   "id": "637d8b61",
   "metadata": {},
   "outputs": [
    {
     "data": {
      "text/plain": [
       "{'Name': 'Chirag',\n",
       " 'Age': 31,\n",
       " 'Location': 'Shalimar Bagh',\n",
       " 'Married': True,\n",
       " 'Height': 5.11,\n",
       " 'Weight': 65.11,\n",
       " 'Hair': 'Black',\n",
       " 'Size': 8.5}"
      ]
     },
     "execution_count": 111,
     "metadata": {},
     "output_type": "execute_result"
    }
   ],
   "source": [
    "a"
   ]
  },
  {
   "cell_type": "code",
   "execution_count": 113,
   "id": "2fc5fee1",
   "metadata": {},
   "outputs": [
    {
     "data": {
      "text/plain": [
       "8.5"
      ]
     },
     "execution_count": 113,
     "metadata": {},
     "output_type": "execute_result"
    }
   ],
   "source": [
    "# How we can remove data from the Dictionary.\n",
    "\n",
    "a.pop('Size')"
   ]
  },
  {
   "cell_type": "code",
   "execution_count": 114,
   "id": "165e475c",
   "metadata": {},
   "outputs": [
    {
     "data": {
      "text/plain": [
       "{'Name': 'Chirag',\n",
       " 'Age': 31,\n",
       " 'Location': 'Shalimar Bagh',\n",
       " 'Married': True,\n",
       " 'Height': 5.11,\n",
       " 'Weight': 65.11,\n",
       " 'Hair': 'Black'}"
      ]
     },
     "execution_count": 114,
     "metadata": {},
     "output_type": "execute_result"
    }
   ],
   "source": [
    "a"
   ]
  },
  {
   "cell_type": "code",
   "execution_count": 115,
   "id": "d9633b72",
   "metadata": {},
   "outputs": [
    {
     "data": {
      "text/plain": [
       "('Hair', 'Black')"
      ]
     },
     "execution_count": 115,
     "metadata": {},
     "output_type": "execute_result"
    }
   ],
   "source": [
    "# If we want to remove data from the last by default\n",
    "\n",
    "a.popitem()"
   ]
  },
  {
   "cell_type": "code",
   "execution_count": 117,
   "id": "8391686c",
   "metadata": {},
   "outputs": [
    {
     "data": {
      "text/plain": [
       "{'Name': 'Chirag',\n",
       " 'Age': 31,\n",
       " 'Location': 'Shalimar Bagh',\n",
       " 'Married': True,\n",
       " 'Height': 5.11,\n",
       " 'Weight': 65.11}"
      ]
     },
     "execution_count": 117,
     "metadata": {},
     "output_type": "execute_result"
    }
   ],
   "source": [
    "a"
   ]
  },
  {
   "cell_type": "markdown",
   "id": "266aab1c",
   "metadata": {},
   "source": [
    "# SET\n",
    "\n",
    "- Set is an unordered collection of elements.\n",
    "- Set is enclosed with {}.\n",
    "- It can store hetrogeneous Data Types\n",
    "- Set doesn't allow DUPLICATES."
   ]
  },
  {
   "cell_type": "code",
   "execution_count": 1,
   "id": "e03d2693",
   "metadata": {},
   "outputs": [],
   "source": [
    "a = {10,3.3,'Hello',2-2j,True}"
   ]
  },
  {
   "cell_type": "code",
   "execution_count": 2,
   "id": "96c38b71",
   "metadata": {},
   "outputs": [
    {
     "data": {
      "text/plain": [
       "{(2-2j), 10, 3.3, 'Hello', True}"
      ]
     },
     "execution_count": 2,
     "metadata": {},
     "output_type": "execute_result"
    }
   ],
   "source": [
    "a"
   ]
  },
  {
   "cell_type": "code",
   "execution_count": 3,
   "id": "4a8d5dbb",
   "metadata": {},
   "outputs": [
    {
     "data": {
      "text/plain": [
       "set"
      ]
     },
     "execution_count": 3,
     "metadata": {},
     "output_type": "execute_result"
    }
   ],
   "source": [
    "type(a)"
   ]
  },
  {
   "cell_type": "markdown",
   "id": "8185b7f4",
   "metadata": {},
   "source": [
    "- Set is ian Unordered collection of elements.\n",
    "- As we provide the input the output will not be the same."
   ]
  },
  {
   "cell_type": "code",
   "execution_count": 4,
   "id": "58351479",
   "metadata": {},
   "outputs": [],
   "source": [
    "data = {10,19,'Hello','Amit',19,'Chirag',True,'Amit'}"
   ]
  },
  {
   "cell_type": "code",
   "execution_count": 5,
   "id": "ab859417",
   "metadata": {},
   "outputs": [
    {
     "data": {
      "text/plain": [
       "{10, 19, 'Amit', 'Chirag', 'Hello', True}"
      ]
     },
     "execution_count": 5,
     "metadata": {},
     "output_type": "execute_result"
    }
   ],
   "source": [
    "data"
   ]
  },
  {
   "cell_type": "code",
   "execution_count": 6,
   "id": "5875e30b",
   "metadata": {},
   "outputs": [],
   "source": [
    "data = {11,22,33,0,True,'Chirag','Amit',1,'Chirag',False,2-2j}"
   ]
  },
  {
   "cell_type": "code",
   "execution_count": 7,
   "id": "ea918b7d",
   "metadata": {},
   "outputs": [
    {
     "data": {
      "text/plain": [
       "{(2-2j), 0, 11, 22, 33, 'Amit', 'Chirag', True}"
      ]
     },
     "execution_count": 7,
     "metadata": {},
     "output_type": "execute_result"
    }
   ],
   "source": [
    "data"
   ]
  },
  {
   "cell_type": "code",
   "execution_count": 8,
   "id": "99a8872d",
   "metadata": {},
   "outputs": [],
   "source": [
    "a = {1,2,3,4,5}\n",
    "b = {4,5,8,9,10}"
   ]
  },
  {
   "cell_type": "code",
   "execution_count": 9,
   "id": "b79f603c",
   "metadata": {},
   "outputs": [
    {
     "data": {
      "text/plain": [
       "({1, 2, 3, 4, 5}, {4, 5, 8, 9, 10})"
      ]
     },
     "execution_count": 9,
     "metadata": {},
     "output_type": "execute_result"
    }
   ],
   "source": [
    "a,b"
   ]
  },
  {
   "cell_type": "code",
   "execution_count": 10,
   "id": "4d0bc974",
   "metadata": {},
   "outputs": [
    {
     "data": {
      "text/plain": [
       "{1, 2, 3, 4, 5, 8, 9, 10}"
      ]
     },
     "execution_count": 10,
     "metadata": {},
     "output_type": "execute_result"
    }
   ],
   "source": [
    "a.union(b)"
   ]
  },
  {
   "cell_type": "code",
   "execution_count": 11,
   "id": "7f0ee22c",
   "metadata": {},
   "outputs": [
    {
     "data": {
      "text/plain": [
       "{4, 5}"
      ]
     },
     "execution_count": 11,
     "metadata": {},
     "output_type": "execute_result"
    }
   ],
   "source": [
    "a.intersection(b)"
   ]
  },
  {
   "cell_type": "code",
   "execution_count": 12,
   "id": "9953ac27",
   "metadata": {},
   "outputs": [],
   "source": [
    "a = ('hi','hello','amit'"
   ]
  },
  {
   "cell_type": "code",
   "execution_count": 13,
   "id": "c07fc6c9",
   "metadata": {},
   "outputs": [
    {
     "data": {
      "text/plain": [
       "(1, 2, 3, 4, 5)"
      ]
     },
     "execution_count": 13,
     "metadata": {},
     "output_type": "execute_result"
    }
   ],
   "source": [
    "a"
   ]
  },
  {
   "cell_type": "code",
   "execution_count": 14,
   "id": "7913ddce",
   "metadata": {},
   "outputs": [
    {
     "ename": "AttributeError",
     "evalue": "'tuple' object has no attribute 'reverse'",
     "output_type": "error",
     "traceback": [
      "\u001b[1;31m---------------------------------------------------------------------------\u001b[0m",
      "\u001b[1;31mAttributeError\u001b[0m                            Traceback (most recent call last)",
      "Cell \u001b[1;32mIn[14], line 1\u001b[0m\n\u001b[1;32m----> 1\u001b[0m a\u001b[38;5;241m.\u001b[39mreverse()\n",
      "\u001b[1;31mAttributeError\u001b[0m: 'tuple' object has no attribute 'reverse'"
     ]
    }
   ],
   "source": []
  },
  {
   "cell_type": "code",
   "execution_count": null,
   "id": "2b84f546",
   "metadata": {},
   "outputs": [],
   "source": []
  },
  {
   "cell_type": "code",
   "execution_count": null,
   "id": "5e095ba2",
   "metadata": {},
   "outputs": [],
   "source": []
  }
 ],
 "metadata": {
  "kernelspec": {
   "display_name": "Python 3 (ipykernel)",
   "language": "python",
   "name": "python3"
  },
  "language_info": {
   "codemirror_mode": {
    "name": "ipython",
    "version": 3
   },
   "file_extension": ".py",
   "mimetype": "text/x-python",
   "name": "python",
   "nbconvert_exporter": "python",
   "pygments_lexer": "ipython3",
   "version": "3.11.5"
  }
 },
 "nbformat": 4,
 "nbformat_minor": 5
}
